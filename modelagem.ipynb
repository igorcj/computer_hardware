{
 "cells": [
  {
   "cell_type": "code",
   "execution_count": 56,
   "id": "46251ff9",
   "metadata": {},
   "outputs": [],
   "source": [
    "# from sklearn.linear_model import LinearRegression\n",
    "# from sklearn import metrics\n",
    "import sklearn\n",
    "import sklearn.pipeline\n",
    "import matplotlib.pyplot as plt\n",
    "from scipy.stats import zscore\n",
    "from sklearn.linear_model import LinearRegression\n",
    "from statsmodels.stats import diagnostic\n",
    "import statsmodels.api as sm\n",
    "import pandas as pd\n",
    "import numpy as np"
   ]
  },
  {
   "cell_type": "code",
   "execution_count": 9,
   "id": "25c2d1a1",
   "metadata": {},
   "outputs": [],
   "source": [
    "df = pd.read_csv('dataset/machine.data',\n",
    "        names=['vendor', 'model', 'MYCT', 'MMIN', 'MMAX',\n",
    "               'CACH', 'CHMIN', 'CHMAX', 'PRP', 'ERP'])\n",
    "conv_dict = {\n",
    "'MYCT': 'machine cycle time in nanoseconds',\n",
    "'MMIN': 'minimum main memory in kilobytes',\n",
    "'MMAX': 'maximum main memory in kilobytes',\n",
    "'CACH': 'cache memory in kilobytes',\n",
    "'CHMIN': 'minimum channels in units',\n",
    "'CHMAX': 'maximum channels in units',\n",
    "'PRP': 'published relative performance',\n",
    "'ERP': 'estimated from original article'\n",
    "}\n",
    "\n",
    "df = df.sort_values('PRP')"
   ]
  },
  {
   "cell_type": "code",
   "execution_count": 10,
   "id": "534b302c",
   "metadata": {},
   "outputs": [
    {
     "data": {
      "text/html": [
       "<div>\n",
       "<style scoped>\n",
       "    .dataframe tbody tr th:only-of-type {\n",
       "        vertical-align: middle;\n",
       "    }\n",
       "\n",
       "    .dataframe tbody tr th {\n",
       "        vertical-align: top;\n",
       "    }\n",
       "\n",
       "    .dataframe thead th {\n",
       "        text-align: right;\n",
       "    }\n",
       "</style>\n",
       "<table border=\"1\" class=\"dataframe\">\n",
       "  <thead>\n",
       "    <tr style=\"text-align: right;\">\n",
       "      <th></th>\n",
       "      <th>vendor</th>\n",
       "      <th>model</th>\n",
       "      <th>MYCT</th>\n",
       "      <th>MMIN</th>\n",
       "      <th>MMAX</th>\n",
       "      <th>CACH</th>\n",
       "      <th>CHMIN</th>\n",
       "      <th>CHMAX</th>\n",
       "      <th>PRP</th>\n",
       "      <th>ERP</th>\n",
       "    </tr>\n",
       "  </thead>\n",
       "  <tbody>\n",
       "    <tr>\n",
       "      <th>99</th>\n",
       "      <td>ibm</td>\n",
       "      <td>370/125-2</td>\n",
       "      <td>480</td>\n",
       "      <td>96</td>\n",
       "      <td>512</td>\n",
       "      <td>0</td>\n",
       "      <td>1</td>\n",
       "      <td>1</td>\n",
       "      <td>6</td>\n",
       "      <td>15</td>\n",
       "    </tr>\n",
       "    <tr>\n",
       "      <th>181</th>\n",
       "      <td>siemens</td>\n",
       "      <td>7.521</td>\n",
       "      <td>240</td>\n",
       "      <td>512</td>\n",
       "      <td>1000</td>\n",
       "      <td>8</td>\n",
       "      <td>1</td>\n",
       "      <td>3</td>\n",
       "      <td>6</td>\n",
       "      <td>19</td>\n",
       "    </tr>\n",
       "    <tr>\n",
       "      <th>102</th>\n",
       "      <td>ibm</td>\n",
       "      <td>38/3</td>\n",
       "      <td>1100</td>\n",
       "      <td>512</td>\n",
       "      <td>1500</td>\n",
       "      <td>0</td>\n",
       "      <td>1</td>\n",
       "      <td>1</td>\n",
       "      <td>7</td>\n",
       "      <td>18</td>\n",
       "    </tr>\n",
       "  </tbody>\n",
       "</table>\n",
       "</div>"
      ],
      "text/plain": [
       "      vendor      model  MYCT  MMIN  MMAX  CACH  CHMIN  CHMAX  PRP  ERP\n",
       "99       ibm  370/125-2   480    96   512     0      1      1    6   15\n",
       "181  siemens      7.521   240   512  1000     8      1      3    6   19\n",
       "102      ibm       38/3  1100   512  1500     0      1      1    7   18"
      ]
     },
     "execution_count": 10,
     "metadata": {},
     "output_type": "execute_result"
    }
   ],
   "source": [
    "df.head(3)"
   ]
  },
  {
   "cell_type": "markdown",
   "id": "d2113709",
   "metadata": {},
   "source": [
    "# Prevendo a performance dos processadores\n",
    "\n",
    "Inicialmente, tentarei prever a performance dos processadores, assim como o artigo original, usando os dados dos mesmos. Vamos explorar algumas possibilidades, visando melhorar o resultado original, e manipulando diferentes modelos. Para início, temos uma regressão linear simples"
   ]
  },
  {
   "cell_type": "code",
   "execution_count": 13,
   "id": "a5af0001",
   "metadata": {},
   "outputs": [
    {
     "name": "stdout",
     "output_type": "stream",
     "text": [
      "Score: 0.8648906922768672\n",
      "Coeficientes: [ 0.0488549   0.01529257  0.00557139  0.64140143 -0.27035755  1.48247217]\n",
      "Intercepto: -55.89393360702415\n"
     ]
    }
   ],
   "source": [
    "X = df[['MYCT', 'MMIN', 'MMAX', 'CACH', 'CHMIN', 'CHMAX']]\n",
    "y = df['PRP']\n",
    "reg = LinearRegression().fit(X, y)\n",
    "df['lm_pred'] = reg.predict(X)\n",
    "print(f'Score: {reg.score(X, y)}')\n",
    "print(f'Coeficientes: {reg.coef_}')\n",
    "print(f'Intercepto: {reg.intercept_}')"
   ]
  },
  {
   "cell_type": "code",
   "execution_count": 14,
   "id": "a647f216",
   "metadata": {},
   "outputs": [
    {
     "data": {
      "image/png": "[encoded data removed]",
      "text/plain": [
       "<Figure size 432x288 with 1 Axes>"
      ]
     },
     "metadata": {
      "needs_background": "light"
     },
     "output_type": "display_data"
    }
   ],
   "source": [
    "# Comparando o real com o estimado (em caso ideal, identidade y=x)\n",
    "plt.plot(df['PRP'], df['PRP'], color='red')\n",
    "plt.scatter(df['PRP'], df['ERP'], alpha=.5, label='predição do artigo')\n",
    "plt.scatter(df['PRP'], df['lm_pred'], alpha=.5, label='meodelo linear')\n",
    "plt.title('Performance estimada no artigo e modelo linear')\n",
    "plt.xlabel('Performance real')\n",
    "plt.ylabel('Performance estimada')\n",
    "plt.legend()\n",
    "plt.show()"
   ]
  },
  {
   "cell_type": "code",
   "execution_count": 15,
   "id": "e0586215",
   "metadata": {},
   "outputs": [
    {
     "name": "stdout",
     "output_type": "stream",
     "text": [
      "Modelo do artigo:\n",
      "MSE: 1737.3349282296651\n",
      "R2: 0.9325117107972016\n",
      "Regressão Linear:\n",
      "MSE: 3478.086675615355\n",
      "R2: 0.8648906922768672\n"
     ]
    }
   ],
   "source": [
    "# Usando métricas para avaliar ambos modelos\n",
    "print('Modelo do artigo:')\n",
    "print(f\"MSE: {sklearn.metrics.mean_squared_error(df['PRP'], df['ERP'])}\")\n",
    "print(f\"R2: {sklearn.metrics.r2_score(df['PRP'], df['ERP'])}\")\n",
    "print('Regressão Linear:')\n",
    "print(f\"MSE: {sklearn.metrics.mean_squared_error(df['PRP'], df['lm_pred'])}\")\n",
    "print(f\"R2: {sklearn.metrics.r2_score(df['PRP'], df['lm_pred'])}\")"
   ]
  },
  {
   "cell_type": "markdown",
   "id": "98406e9a",
   "metadata": {},
   "source": [
    "A regressão linear, embora bem razoavel para o problema, ainda teve menor desempenho que o modelo do artigo. Vamos tentar melhora-la. Em primeira abordagem, usarei o teste Goldfeldt-Quant para verificar se a variância dos dados apresenta correlação monótona com minhas features, o que prejudicaria a regressão (heterocedasticidade). Na função abaixo, podemos observar a f-statistic e p-valor resultados do teste, além da ordenação usada."
   ]
  },
  {
   "cell_type": "code",
   "execution_count": 19,
   "id": "6bf01755",
   "metadata": {},
   "outputs": [
    {
     "data": {
      "text/plain": [
       "(55.023678187774046, 3.549091548850169e-59, 'increasing')"
      ]
     },
     "execution_count": 19,
     "metadata": {},
     "output_type": "execute_result"
    }
   ],
   "source": [
    "diagnostic.het_goldfeldquandt(y, X)"
   ]
  },
  {
   "cell_type": "code",
   "execution_count": 48,
   "id": "8d6561c3",
   "metadata": {},
   "outputs": [
    {
     "data": {
      "text/plain": [
       "[0, 1, 2, 3, 4, 5, 6, 7, 8, 9, 10]"
      ]
     },
     "execution_count": 48,
     "metadata": {},
     "output_type": "execute_result"
    }
   ],
   "source": []
  },
  {
   "cell_type": "markdown",
   "id": "e4ca7140",
   "metadata": {},
   "source": [
    "No caso, como suspeitado, há sim uma correlação entre as features e a variância da variável alvo. O modelo de regressão linear, porém, assume variância constante. Lidando com essa situação, podemos melhorar seu desempenho. Como alternativa, tentarei usar o modelo de regressão linear com pesos. A idéia é associar a cada ponto um peso baseado na variância do valor fitado, o que normalizará a variância do modelo. Primeiro, vou regredir a variancia dos dados."
   ]
  },
  {
   "cell_type": "code",
   "execution_count": 71,
   "id": "d1b9e8ed",
   "metadata": {},
   "outputs": [],
   "source": [
    "v = []\n",
    "for i in range(50):\n",
    "    ls = list(map(lambda x:x/50*len(df), range(51)))\n",
    "    t = df.iloc[int(ls[i]) : int(ls[i+1])-1]\n",
    "    v.extend([np.var(t['PRP'])]*len(t))\n",
    "    \n",
    "# LinearRegression().fit(X, v).preict(X)"
   ]
  },
  {
   "cell_type": "code",
   "execution_count": 27,
   "id": "27aebc3d",
   "metadata": {},
   "outputs": [
    {
     "name": "stdout",
     "output_type": "stream",
     "text": [
      "                                 WLS Regression Results                                \n",
      "=======================================================================================\n",
      "Dep. Variable:                    PRP   R-squared (uncentered):                   0.603\n",
      "Model:                            WLS   Adj. R-squared (uncentered):              0.592\n",
      "Method:                 Least Squares   F-statistic:                              51.47\n",
      "Date:                Wed, 08 Jun 2022   Prob (F-statistic):                    3.34e-38\n",
      "Time:                        12:27:52   Log-Likelihood:                         -1298.8\n",
      "No. Observations:                 209   AIC:                                      2610.\n",
      "Df Residuals:                     203   BIC:                                      2630.\n",
      "Df Model:                           6                                                  \n",
      "Covariance Type:            nonrobust                                                  \n",
      "==============================================================================\n",
      "                 coef    std err          t      P>|t|      [0.025      0.975]\n",
      "------------------------------------------------------------------------------\n",
      "x1            12.6847      9.307      1.363      0.174      -5.667      31.036\n",
      "x2            59.1739     14.464      4.091      0.000      30.655      87.693\n",
      "x3            65.1768     15.363      4.242      0.000      34.885      95.468\n",
      "x4            25.9969     11.574      2.246      0.026       3.175      48.818\n",
      "x5            -1.8384     11.906     -0.154      0.877     -25.313      21.636\n",
      "x6            38.4480     11.677      3.293      0.001      15.425      61.471\n",
      "==============================================================================\n",
      "Omnibus:                       99.727   Durbin-Watson:                   0.354\n",
      "Prob(Omnibus):                  0.000   Jarque-Bera (JB):             1140.969\n",
      "Skew:                           1.495   Prob(JB):                    1.74e-248\n",
      "Kurtosis:                      14.049   Cond. No.                         4.39\n",
      "==============================================================================\n",
      "\n",
      "Notes:\n",
      "[1] R² is computed without centering (uncentered) since the model does not contain a constant.\n",
      "[2] Standard Errors assume that the covariance matrix of the errors is correctly specified.\n"
     ]
    }
   ],
   "source": [
    "wls_model = sm.WLS(y,X)\n",
    "results = wls_model.fit()\n",
    "print(results.summary())\n",
    "df['lm2_pred'] = results.predict(X)"
   ]
  },
  {
   "cell_type": "code",
   "execution_count": 30,
   "id": "819e00a5",
   "metadata": {},
   "outputs": [
    {
     "data": {
      "image/png": "[encoded data removed]",
      "text/plain": [
       "<Figure size 432x288 with 1 Axes>"
      ]
     },
     "metadata": {
      "needs_background": "light"
     },
     "output_type": "display_data"
    }
   ],
   "source": [
    "# Comparando o real com o estimado (em caso ideal, identidade y=x)\n",
    "plt.plot(df['PRP'], df['PRP'], color='red')\n",
    "plt.scatter(df['PRP'], df['ERP'], alpha=.5, label='predição do artigo')\n",
    "plt.scatter(df['PRP'], df['lm2_pred'], alpha=.5, label='meodelo linear')\n",
    "plt.title('Performance estimada no artigo e modelo linear')\n",
    "plt.xlabel('Performance real')\n",
    "plt.ylabel('Performance estimada')\n",
    "plt.legend()\n",
    "plt.show()"
   ]
  },
  {
   "cell_type": "code",
   "execution_count": 28,
   "id": "823a3659",
   "metadata": {},
   "outputs": [
    {
     "name": "stdout",
     "output_type": "stream",
     "text": [
      "Modelo do artigo:\n",
      "MSE: 1737.3349282296651\n",
      "R2: 0.9325117107972016\n",
      "Regressão Linear:\n",
      "MSE: 14634.095581089134\n",
      "R2: 0.43152580498434656\n"
     ]
    }
   ],
   "source": [
    "# Usando métricas para avaliar ambos modelos\n",
    "print('Modelo do artigo:')\n",
    "print(f\"MSE: {sklearn.metrics.mean_squared_error(df['PRP'], df['ERP'])}\")\n",
    "print(f\"R2: {sklearn.metrics.r2_score(df['PRP'], df['ERP'])}\")\n",
    "print('Regressão Linear:')\n",
    "print(f\"MSE: {sklearn.metrics.mean_squared_error(df['PRP'], df['lm2_pred'])}\")\n",
    "print(f\"R2: {sklearn.metrics.r2_score(df['PRP'], df['lm2_pred'])}\")"
   ]
  }
 ],
 "metadata": {
  "kernelspec": {
   "display_name": "Python 3 (ipykernel)",
   "language": "python",
   "name": "python3"
  },
  "language_info": {
   "codemirror_mode": {
    "name": "ipython",
    "version": 3
   },
   "file_extension": ".py",
   "mimetype": "text/x-python",
   "name": "python",
   "nbconvert_exporter": "python",
   "pygments_lexer": "ipython3",
   "version": "3.10.4"
  }
 },
 "nbformat": 4,
 "nbformat_minor": 5
}
