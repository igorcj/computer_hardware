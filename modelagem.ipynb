{
 "cells": [
  {
   "cell_type": "code",
   "execution_count": 90,
   "id": "46251ff9",
   "metadata": {},
   "outputs": [],
   "source": [
    "# from sklearn.linear_model import LinearRegression\n",
    "# from sklearn import metrics\n",
    "import sklearn\n",
    "import sklearn.pipeline\n",
    "import matplotlib.pyplot as plt\n",
    "from scipy.stats import zscore\n",
    "from sklearn.linear_model import LinearRegression, Lasso, ElasticNet\n",
    "from statsmodels.stats import diagnostic\n",
    "import statsmodels.api as sm\n",
    "import pandas as pd\n",
    "import numpy as np\n",
    "import seaborn as sns"
   ]
  },
  {
   "cell_type": "code",
   "execution_count": 2,
   "id": "25c2d1a1",
   "metadata": {},
   "outputs": [],
   "source": [
    "df = pd.read_csv('dataset/machine.data',\n",
    "        names=['vendor', 'model', 'MYCT', 'MMIN', 'MMAX',\n",
    "               'CACH', 'CHMIN', 'CHMAX', 'PRP', 'ERP'])\n",
    "conv_dict = {\n",
    "'MYCT': 'machine cycle time in nanoseconds',\n",
    "'MMIN': 'minimum main memory in kilobytes',\n",
    "'MMAX': 'maximum main memory in kilobytes',\n",
    "'CACH': 'cache memory in kilobytes',\n",
    "'CHMIN': 'minimum channels in units',\n",
    "'CHMAX': 'maximum channels in units',\n",
    "'PRP': 'published relative performance',\n",
    "'ERP': 'estimated from original article'\n",
    "}\n",
    "\n",
    "df = df.sort_values('PRP')"
   ]
  },
  {
   "cell_type": "code",
   "execution_count": 3,
   "id": "534b302c",
   "metadata": {},
   "outputs": [
    {
     "data": {
      "text/html": [
       "<div>\n",
       "<style scoped>\n",
       "    .dataframe tbody tr th:only-of-type {\n",
       "        vertical-align: middle;\n",
       "    }\n",
       "\n",
       "    .dataframe tbody tr th {\n",
       "        vertical-align: top;\n",
       "    }\n",
       "\n",
       "    .dataframe thead th {\n",
       "        text-align: right;\n",
       "    }\n",
       "</style>\n",
       "<table border=\"1\" class=\"dataframe\">\n",
       "  <thead>\n",
       "    <tr style=\"text-align: right;\">\n",
       "      <th></th>\n",
       "      <th>vendor</th>\n",
       "      <th>model</th>\n",
       "      <th>MYCT</th>\n",
       "      <th>MMIN</th>\n",
       "      <th>MMAX</th>\n",
       "      <th>CACH</th>\n",
       "      <th>CHMIN</th>\n",
       "      <th>CHMAX</th>\n",
       "      <th>PRP</th>\n",
       "      <th>ERP</th>\n",
       "    </tr>\n",
       "  </thead>\n",
       "  <tbody>\n",
       "    <tr>\n",
       "      <th>99</th>\n",
       "      <td>ibm</td>\n",
       "      <td>370/125-2</td>\n",
       "      <td>480</td>\n",
       "      <td>96</td>\n",
       "      <td>512</td>\n",
       "      <td>0</td>\n",
       "      <td>1</td>\n",
       "      <td>1</td>\n",
       "      <td>6</td>\n",
       "      <td>15</td>\n",
       "    </tr>\n",
       "    <tr>\n",
       "      <th>181</th>\n",
       "      <td>siemens</td>\n",
       "      <td>7.521</td>\n",
       "      <td>240</td>\n",
       "      <td>512</td>\n",
       "      <td>1000</td>\n",
       "      <td>8</td>\n",
       "      <td>1</td>\n",
       "      <td>3</td>\n",
       "      <td>6</td>\n",
       "      <td>19</td>\n",
       "    </tr>\n",
       "    <tr>\n",
       "      <th>102</th>\n",
       "      <td>ibm</td>\n",
       "      <td>38/3</td>\n",
       "      <td>1100</td>\n",
       "      <td>512</td>\n",
       "      <td>1500</td>\n",
       "      <td>0</td>\n",
       "      <td>1</td>\n",
       "      <td>1</td>\n",
       "      <td>7</td>\n",
       "      <td>18</td>\n",
       "    </tr>\n",
       "  </tbody>\n",
       "</table>\n",
       "</div>"
      ],
      "text/plain": [
       "      vendor      model  MYCT  MMIN  MMAX  CACH  CHMIN  CHMAX  PRP  ERP\n",
       "99       ibm  370/125-2   480    96   512     0      1      1    6   15\n",
       "181  siemens      7.521   240   512  1000     8      1      3    6   19\n",
       "102      ibm       38/3  1100   512  1500     0      1      1    7   18"
      ]
     },
     "execution_count": 3,
     "metadata": {},
     "output_type": "execute_result"
    }
   ],
   "source": [
    "df.head(3)"
   ]
  },
  {
   "cell_type": "markdown",
   "id": "d2113709",
   "metadata": {},
   "source": [
    "# Prevendo a performance dos processadores\n",
    "\n",
    "Inicialmente, tentarei prever a performance dos processadores, assim como o artigo original, usando os dados dos mesmos. Vamos explorar algumas possibilidades, visando melhorar o resultado original, e manipulando diferentes modelos. Para início, temos uma regressão linear simples"
   ]
  },
  {
   "cell_type": "code",
   "execution_count": 4,
   "id": "a5af0001",
   "metadata": {},
   "outputs": [
    {
     "name": "stdout",
     "output_type": "stream",
     "text": [
      "Score: 0.8648906922768672\n",
      "Coeficientes: [ 0.0488549   0.01529257  0.00557139  0.64140143 -0.27035755  1.48247217]\n",
      "Intercepto: -55.89393360702418\n"
     ]
    }
   ],
   "source": [
    "X = df[['MYCT', 'MMIN', 'MMAX', 'CACH', 'CHMIN', 'CHMAX']]\n",
    "y = df['PRP']\n",
    "reg = LinearRegression().fit(X, y)\n",
    "df['lm_pred'] = reg.predict(X)\n",
    "print(f'Score: {reg.score(X, y)}')\n",
    "print(f'Coeficientes: {reg.coef_}')\n",
    "print(f'Intercepto: {reg.intercept_}')"
   ]
  },
  {
   "cell_type": "code",
   "execution_count": 5,
   "id": "a647f216",
   "metadata": {},
   "outputs": [
    {
     "data": {
      "image/png": "[encoded data removed]",
      "text/plain": [
       "<Figure size 432x288 with 1 Axes>"
      ]
     },
     "metadata": {
      "needs_background": "light"
     },
     "output_type": "display_data"
    }
   ],
   "source": [
    "# Comparando o real com o estimado (em caso ideal, identidade y=x)\n",
    "plt.plot(df['PRP'], df['PRP'], color='red')\n",
    "plt.scatter(df['PRP'], df['ERP'], alpha=.5, label='predição do artigo')\n",
    "plt.scatter(df['PRP'], df['lm_pred'], alpha=.5, label='meodelo linear')\n",
    "plt.title('Performance estimada no artigo e modelo linear')\n",
    "plt.xlabel('Performance real')\n",
    "plt.ylabel('Performance estimada')\n",
    "plt.legend()\n",
    "plt.show()"
   ]
  },
  {
   "cell_type": "code",
   "execution_count": 6,
   "id": "e0586215",
   "metadata": {},
   "outputs": [
    {
     "name": "stdout",
     "output_type": "stream",
     "text": [
      "Modelo do artigo:\n",
      "MSE: 1737.3349282296651\n",
      "R2: 0.9325117107972016\n",
      "Regressão Linear:\n",
      "MSE: 3478.0866756153564\n",
      "R2: 0.8648906922768672\n"
     ]
    }
   ],
   "source": [
    "# Usando métricas para avaliar ambos modelos\n",
    "print('Modelo do artigo:')\n",
    "print(f\"MSE: {sklearn.metrics.mean_squared_error(df['PRP'], df['ERP'])}\")\n",
    "print(f\"R2: {sklearn.metrics.r2_score(df['PRP'], df['ERP'])}\")\n",
    "print('Regressão Linear:')\n",
    "print(f\"MSE: {sklearn.metrics.mean_squared_error(df['PRP'], df['lm_pred'])}\")\n",
    "print(f\"R2: {sklearn.metrics.r2_score(df['PRP'], df['lm_pred'])}\")"
   ]
  },
  {
   "cell_type": "markdown",
   "id": "98406e9a",
   "metadata": {},
   "source": [
    "A regressão linear, embora bem razoavel para o problema, ainda teve menor desempenho que o modelo do artigo. Vamos tentar melhora-la. Em primeira abordagem, usarei o teste Goldfeldt-Quant para verificar se a variância dos dados apresenta correlação monótona com minhas features, o que prejudicaria a regressão (heterocedasticidade). Na função abaixo, podemos observar a f-statistic e p-valor resultados do teste, além da ordenação usada."
   ]
  },
  {
   "cell_type": "code",
   "execution_count": 12,
   "id": "6bf01755",
   "metadata": {},
   "outputs": [
    {
     "data": {
      "text/plain": [
       "(55.023678187774024, 3.5490915488502365e-59, 'increasing')"
      ]
     },
     "execution_count": 12,
     "metadata": {},
     "output_type": "execute_result"
    }
   ],
   "source": [
    "diagnostic.het_goldfeldquandt(y, X)"
   ]
  },
  {
   "cell_type": "markdown",
   "id": "e4ca7140",
   "metadata": {},
   "source": [
    "No caso, como suspeitado, há sim uma correlação entre as features e a variância da variável alvo. O modelo de regressão linear, porém, assume variância constante. Lidando com essa situação, podemos melhorar seu desempenho. Como alternativa, tentarei usar o modelo de regressão linear com pesos. A idéia é associar a cada ponto um peso baseado no inverso da variância do valor fitado, o que normalizará a variância do modelo. Para isso testarei pesos nas diferentes features?"
   ]
  },
  {
   "cell_type": "code",
   "execution_count": 52,
   "id": "901acb1b",
   "metadata": {},
   "outputs": [],
   "source": [
    "for var in ['MYCT', 'MMIN', 'MMAX', 'CACH', 'CHMIN', 'CHMAX']:\n",
    "    wls_model = sm.WLS(y,X, weights=[1/k if k else 0 for k in X[var]])\n",
    "    results = wls_model.fit()\n",
    "    df[f'lm_{var}'] = results.predict(X)"
   ]
  },
  {
   "cell_type": "code",
   "execution_count": 53,
   "id": "2a4a8bff",
   "metadata": {},
   "outputs": [
    {
     "name": "stdout",
     "output_type": "stream",
     "text": [
      "Modelo do artigo:\n",
      "MSE: 1737.3349282296651\n",
      "R2: 0.9325117107972016\n"
     ]
    }
   ],
   "source": [
    "# Usando métricas para avaliar ambos modelos\n",
    "print('Modelo do artigo:')\n",
    "print(f\"MSE: {sklearn.metrics.mean_squared_error(df['PRP'], df['ERP'])}\")\n",
    "print(f\"R2: {sklearn.metrics.r2_score(df['PRP'], df['ERP'])}\")\n",
    "\n",
    "mse, r2 = [], []\n",
    "for var in ['MYCT', 'MMIN', 'MMAX', 'CACH', 'CHMIN', 'CHMAX']:\n",
    "    mse.append(sklearn.metrics.mean_squared_error(df['PRP'], df[f'lm_{var}']))\n",
    "    r2.append(sklearn.metrics.r2_score(df['PRP'], df[f'lm_{var}']))"
   ]
  },
  {
   "cell_type": "code",
   "execution_count": 58,
   "id": "d6f98217",
   "metadata": {},
   "outputs": [
    {
     "name": "stdout",
     "output_type": "stream",
     "text": [
      "0.792579718587723\n",
      "5339.5708200265535\n"
     ]
    }
   ],
   "source": [
    "print(max(r2))\n",
    "print(min(mse))"
   ]
  },
  {
   "cell_type": "markdown",
   "id": "e96fadcc",
   "metadata": {},
   "source": [
    "Essa abordagem não surtiu muito efeito, sendo que os parametros do modelo ficaram inferiores à regressão padrão. Vamos explorar uma outra possibilidade. Vamos analisar a correlação entre as features."
   ]
  },
  {
   "cell_type": "code",
   "execution_count": 96,
   "id": "0a49d0f4",
   "metadata": {},
   "outputs": [
    {
     "data": {
      "image/png": "[encoded data removed]",
      "text/plain": [
       "<Figure size 648x648 with 2 Axes>"
      ]
     },
     "metadata": {
      "needs_background": "light"
     },
     "output_type": "display_data"
    }
   ],
   "source": [
    "corr = df[['MYCT', 'MMIN', 'MMAX', 'CACH', 'CHMIN', 'CHMAX','PRP']].corr()\n",
    "plt.figure(figsize = (9, 9))\n",
    "sns.heatmap(corr, cmap = 'coolwarm')\n",
    "plt.show()"
   ]
  },
  {
   "cell_type": "markdown",
   "id": "e1049dcf",
   "metadata": {},
   "source": [
    "MMIN e MMAX são claramente muito correlacionadas. Alem disso, MMAX têm o maior impacto na performance que queremos prever. Vamos olhar mais essa relação:"
   ]
  },
  {
   "cell_type": "code",
   "execution_count": 100,
   "id": "c831dcd8",
   "metadata": {},
   "outputs": [
    {
     "data": {
      "image/png": "[encoded data removed]",
      "text/plain": [
       "<Figure size 432x288 with 1 Axes>"
      ]
     },
     "metadata": {
      "needs_background": "light"
     },
     "output_type": "display_data"
    }
   ],
   "source": [
    "plt.scatter(df['MMAX'], df['PRP'])\n",
    "plt.title('MMAX e Performance')\n",
    "plt.xlabel('MMAX')\n",
    "plt.ylabel('PRP')\n",
    "plt.show()"
   ]
  },
  {
   "cell_type": "markdown",
   "id": "d8269bdb",
   "metadata": {},
   "source": [
    "Sera valido tentar prever a performace apenas com essa feature"
   ]
  },
  {
   "cell_type": "code",
   "execution_count": 109,
   "id": "216fcd6d",
   "metadata": {},
   "outputs": [
    {
     "name": "stdout",
     "output_type": "stream",
     "text": [
      "Score: 0.744776118671232\n",
      "Coeficientes: [0.01183617]\n",
      "Intercepto: -33.99924034304276\n"
     ]
    }
   ],
   "source": [
    "reg = LinearRegression().fit(df[['MMAX']], df['PRP'])\n",
    "df['mmax_pred'] = reg.predict(df[['MMAX']])\n",
    "print(f\"Score: {reg.score(df[['MMAX']], df['PRP'])}\")\n",
    "print(f'Coeficientes: {reg.coef_}')\n",
    "print(f'Intercepto: {reg.intercept_}')"
   ]
  },
  {
   "cell_type": "code",
   "execution_count": 110,
   "id": "c106c76b",
   "metadata": {},
   "outputs": [
    {
     "name": "stdout",
     "output_type": "stream",
     "text": [
      "MSE: 6570.167488145871\n",
      "R2: 0.744776118671232\n"
     ]
    }
   ],
   "source": [
    "print(f\"MSE: {sklearn.metrics.mean_squared_error(df['PRP'], df['mmax_pred'])}\")\n",
    "print(f\"R2: {sklearn.metrics.r2_score(df['PRP'], df['mmax_pred'])}\")"
   ]
  },
  {
   "cell_type": "markdown",
   "id": "961628cc",
   "metadata": {},
   "source": [
    "Realmente, temos um modelo um pouco pior, mas com grande capacidade preditiva, que só confirma a grande representatividade dessa variável. Apliquemos agora PCA mais efetivamente para decidir as variáveis mais relevantes."
   ]
  },
  {
   "cell_type": "code",
   "execution_count": 120,
   "id": "af57dfbf",
   "metadata": {},
   "outputs": [
    {
     "name": "stdout",
     "output_type": "stream",
     "text": [
      "[9.60283667e-01 3.93281442e-02 3.77860090e-04]\n",
      "[174601.19757958  35334.51821049   3463.48219169]\n"
     ]
    }
   ],
   "source": [
    "from sklearn.decomposition import PCA\n",
    "pca = PCA(n_components=3)\n",
    "pca.fit(X)\n",
    "print(pca.explained_variance_ratio_)\n",
    "print(pca.singular_values_)\n",
    "X2 = pca.transform(X)"
   ]
  },
  {
   "cell_type": "code",
   "execution_count": 121,
   "id": "8174d2b8",
   "metadata": {},
   "outputs": [
    {
     "name": "stdout",
     "output_type": "stream",
     "text": [
      "Score: 0.7927394489374597\n",
      "Coeficientes: [0.01160048 0.01113437 0.0255988 ]\n",
      "Intercepto: 105.622009569378\n"
     ]
    }
   ],
   "source": [
    "reg = LinearRegression().fit(X2, y)\n",
    "df['pca_pred'] = reg.predict(X2)\n",
    "print(f\"Score: {reg.score(X2, y)}\")\n",
    "print(f'Coeficientes: {reg.coef_}')\n",
    "print(f'Intercepto: {reg.intercept_}')"
   ]
  },
  {
   "cell_type": "code",
   "execution_count": 122,
   "id": "1219e578",
   "metadata": {},
   "outputs": [
    {
     "name": "stdout",
     "output_type": "stream",
     "text": [
      "MSE: 5335.4589197402365\n",
      "R2: 0.7927394489374597\n"
     ]
    }
   ],
   "source": [
    "print(f\"MSE: {sklearn.metrics.mean_squared_error(df['PRP'], df['pca_pred'])}\")\n",
    "print(f\"R2: {sklearn.metrics.r2_score(df['PRP'], df['pca_pred'])}\")"
   ]
  },
  {
   "cell_type": "markdown",
   "id": "09c1c6ef",
   "metadata": {},
   "source": [
    "Com 3 das 6 componentes principais conseguimos um modelo quase tão bom quanto o inicial, visto que a relevancia das variáveis é geterogeneamente distribuida. Vamos partir para outra abordagem, Support Vector Machines."
   ]
  },
  {
   "cell_type": "code",
   "execution_count": 126,
   "id": "6785149c",
   "metadata": {},
   "outputs": [
    {
     "name": "stdout",
     "output_type": "stream",
     "text": [
      "MSE: 3332.248803827751\n",
      "R2: 0.8705558914897511\n"
     ]
    }
   ],
   "source": [
    "clf = sklearn.svm.SVC().fit(X,y)\n",
    "df['svc_pred'] = clf.predict(X)\n",
    "print(f\"MSE: {sklearn.metrics.mean_squared_error(df['PRP'], df['svc_pred'])}\")\n",
    "print(f\"R2: {sklearn.metrics.r2_score(df['PRP'], df['svc_pred'])}\")"
   ]
  },
  {
   "cell_type": "markdown",
   "id": "b6e00614",
   "metadata": {},
   "source": [
    "Legal! Com um simples classificador SVC conseguimos melhorar o resultado da regressão linear. Vamos tentar ainda alguns ajustes, variando o kernel, para além do linear, e averiguando os resultados:"
   ]
  },
  {
   "cell_type": "code",
   "execution_count": null,
   "id": "99a8aadf",
   "metadata": {},
   "outputs": [],
   "source": [
    "for kernel in ['linear', 'poly', 'rbf', 'sigmoid']:\n",
    "    clf = sklearn.svm.SVC(kernel=kernel).fit(X,y)\n",
    "    df[f'svc_{kernel}_pred'] = clf.predict(X)\n",
    "    print(f\"MSE: {sklearn.metrics.mean_squared_error(df['PRP'], df[f'svc_{kernel}_pred'])}\")\n",
    "    print(f\"R2: {sklearn.metrics.r2_score(df['PRP'], df[f'svc_{kernel}_pred'])}\")"
   ]
  }
 ],
 "metadata": {
  "kernelspec": {
   "display_name": "Python 3 (ipykernel)",
   "language": "python",
   "name": "python3"
  },
  "language_info": {
   "codemirror_mode": {
    "name": "ipython",
    "version": 3
   },
   "file_extension": ".py",
   "mimetype": "text/x-python",
   "name": "python",
   "nbconvert_exporter": "python",
   "pygments_lexer": "ipython3",
   "version": "3.9.5"
  }
 },
 "nbformat": 4,
 "nbformat_minor": 5
}
